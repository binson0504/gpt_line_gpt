{
  "cells": [
    {
      "cell_type": "markdown",
      "metadata": {
        "id": "Zlbx7UGIJ-q4"
      },
      "source": [
        "## 連動 Google Drive"
      ]
    },
    {
      "cell_type": "code",
      "execution_count": null,
      "metadata": {
        "colab": {
          "base_uri": "https://localhost:8080/"
        },
        "id": "mgBnG9Kg5PWa",
        "outputId": "da58b828-9731-4bf5-856a-efaf48644f4f"
      },
      "outputs": [
        {
          "name": "stdout",
          "output_type": "stream",
          "text": [
            "Mounted at /content/drive\n",
            "shell-init: error retrieving current directory: getcwd: cannot access parent directories: No such file or directory\n",
            "mkdir: cannot stat ‘/drive’: Transport endpoint is not connected\n",
            "shell-init: error retrieving current directory: getcwd: cannot access parent directories: No such file or directory\n",
            "shell-init: error retrieving current directory: getcwd: cannot access parent directories: No such file or directory\n",
            "shell-init: error retrieving current directory: getcwd: cannot access parent directories: No such file or directory\n"
          ]
        }
      ],
      "source": [
        "from google.colab import drive\n",
        "drive.mount('/content/drive', force_remount=True)\n",
        "\n",
        "!mkdir -p /drive\n",
        "#umount /drive\n",
        "!mount --bind /content/drive/My\\ Drive /drive\n",
        "!mkdir -p /drive/ngrok-ssh\n",
        "!mkdir -p ~/.ssh"
      ]
    },
    {
      "cell_type": "markdown",
      "metadata": {
        "id": "ak_-Fr9179zh"
      },
      "source": [
        "## 下載 ngrok 檔案"
      ]
    },
    {
      "cell_type": "code",
      "execution_count": null,
      "metadata": {
        "colab": {
          "base_uri": "https://localhost:8080/"
        },
        "id": "zm3hARyO75iG",
        "outputId": "4bc6f3c0-8949-4a44-98a2-3ecfb5fa726a"
      },
      "outputs": [
        {
          "name": "stdout",
          "output_type": "stream",
          "text": [
            "shell-init: error retrieving current directory: getcwd: cannot access parent directories: No such file or directory\n",
            "/drive/ngrok-ssh\n",
            "--2023-12-30 10:21:20--  https://bin.equinox.io/c/4VmDzA7iaHb/ngrok-stable-linux-amd64.zip\n",
            "Resolving bin.equinox.io (bin.equinox.io)... 52.202.168.65, 54.161.241.46, 54.237.133.81, ...\n",
            "Connecting to bin.equinox.io (bin.equinox.io)|52.202.168.65|:443... connected.\n",
            "HTTP request sent, awaiting response... 200 OK\n",
            "Length: 13921656 (13M) [application/octet-stream]\n",
            "Saving to: ‘ngrok-stable-linux-amd64.zip’\n",
            "\n",
            "ngrok-stable-linux- 100%[===================>]  13.28M  18.3MB/s    in 0.7s    \n",
            "\n",
            "2023-12-30 10:21:21 (18.3 MB/s) - ‘ngrok-stable-linux-amd64.zip’ saved [13921656/13921656]\n",
            "\n",
            "Archive:  ngrok-stable-linux-amd64.zip\n"
          ]
        }
      ],
      "source": [
        "!mkdir -p /drive/ngrok-ssh\n",
        "%cd /drive/ngrok-ssh\n",
        "!wget https://bin.equinox.io/c/4VmDzA7iaHb/ngrok-stable-linux-amd64.zip -O ngrok-stable-linux-amd64.zip\n",
        "!unzip -u ngrok-stable-linux-amd64.zip\n",
        "!cp /drive/ngrok-ssh/ngrok /ngrok\n",
        "!chmod +x /ngrok"
      ]
    },
    {
      "cell_type": "markdown",
      "metadata": {
        "id": "Upuk80NlJ5dX"
      },
      "source": [
        "## 輸入 ngrok token"
      ]
    },
    {
      "cell_type": "code",
      "execution_count": null,
      "metadata": {
        "colab": {
          "base_uri": "https://localhost:8080/"
        },
        "id": "8ZDeuQOr8A8U",
        "outputId": "cc4966c2-b919-4f3a-afcb-49df99c249cc"
      },
      "outputs": [
        {
          "name": "stdout",
          "output_type": "stream",
          "text": [
            "Authtoken saved to configuration file: /root/.ngrok2/ngrok.yml\n"
          ]
        }
      ],
      "source": [
        "!/ngrok authtoken \"authtoken\""
      ]
    },
    {
      "cell_type": "markdown",
      "metadata": {
        "id": "a93GNtXUKLrv"
      },
      "source": [
        "## 安裝 flask_ngrok 函式庫"
      ]
    },
    {
      "cell_type": "code",
      "execution_count": null,
      "metadata": {
        "colab": {
          "base_uri": "https://localhost:8080/"
        },
        "id": "vHV_rRZc79Dg",
        "outputId": "70bc5621-774a-4297-fe48-850f5e869553"
      },
      "outputs": [
        {
          "name": "stdout",
          "output_type": "stream",
          "text": [
            "Requirement already satisfied: flask_ngrok in /usr/local/lib/python3.10/dist-packages (0.0.25)\n",
            "Requirement already satisfied: Flask>=0.8 in /usr/local/lib/python3.10/dist-packages (from flask_ngrok) (2.2.5)\n",
            "Requirement already satisfied: requests in /usr/local/lib/python3.10/dist-packages (from flask_ngrok) (2.31.0)\n",
            "Requirement already satisfied: Werkzeug>=2.2.2 in /usr/local/lib/python3.10/dist-packages (from Flask>=0.8->flask_ngrok) (3.0.1)\n",
            "Requirement already satisfied: Jinja2>=3.0 in /usr/local/lib/python3.10/dist-packages (from Flask>=0.8->flask_ngrok) (3.1.2)\n",
            "Requirement already satisfied: itsdangerous>=2.0 in /usr/local/lib/python3.10/dist-packages (from Flask>=0.8->flask_ngrok) (2.1.2)\n",
            "Requirement already satisfied: click>=8.0 in /usr/local/lib/python3.10/dist-packages (from Flask>=0.8->flask_ngrok) (8.1.7)\n",
            "Requirement already satisfied: charset-normalizer<4,>=2 in /usr/local/lib/python3.10/dist-packages (from requests->flask_ngrok) (3.3.2)\n",
            "Requirement already satisfied: idna<4,>=2.5 in /usr/local/lib/python3.10/dist-packages (from requests->flask_ngrok) (3.6)\n",
            "Requirement already satisfied: urllib3<3,>=1.21.1 in /usr/local/lib/python3.10/dist-packages (from requests->flask_ngrok) (2.0.7)\n",
            "Requirement already satisfied: certifi>=2017.4.17 in /usr/local/lib/python3.10/dist-packages (from requests->flask_ngrok) (2023.11.17)\n",
            "Requirement already satisfied: MarkupSafe>=2.0 in /usr/local/lib/python3.10/dist-packages (from Jinja2>=3.0->Flask>=0.8->flask_ngrok) (2.1.3)\n"
          ]
        }
      ],
      "source": [
        "!pip install flask_ngrok"
      ]
    },
    {
      "cell_type": "markdown",
      "metadata": {
        "id": "iiOfGC7KKalw"
      },
      "source": [
        "## 安裝 line-bot-sdk 函式庫"
      ]
    },
    {
      "cell_type": "code",
      "execution_count": null,
      "metadata": {
        "colab": {
          "base_uri": "https://localhost:8080/"
        },
        "id": "ps4MmXSBKbEt",
        "outputId": "c143263b-a6dd-4609-b63b-30e7e22ff8b7"
      },
      "outputs": [
        {
          "name": "stdout",
          "output_type": "stream",
          "text": [
            "Requirement already satisfied: line-bot-sdk in /usr/local/lib/python3.10/dist-packages (3.7.0)\n",
            "Requirement already satisfied: requests==2.31.0 in /usr/local/lib/python3.10/dist-packages (from line-bot-sdk) (2.31.0)\n",
            "Requirement already satisfied: urllib3<3,>=2.0.5 in /usr/local/lib/python3.10/dist-packages (from line-bot-sdk) (2.0.7)\n",
            "Requirement already satisfied: aiohttp==3.9.1 in /usr/local/lib/python3.10/dist-packages (from line-bot-sdk) (3.9.1)\n",
            "Requirement already satisfied: future in /usr/local/lib/python3.10/dist-packages (from line-bot-sdk) (0.18.3)\n",
            "Requirement already satisfied: pydantic<3,>=2.0.3 in /usr/local/lib/python3.10/dist-packages (from line-bot-sdk) (2.5.3)\n",
            "Requirement already satisfied: aenum>=3.1.11 in /usr/local/lib/python3.10/dist-packages (from line-bot-sdk) (3.1.15)\n",
            "Requirement already satisfied: python-dateutil>=2.5.3 in /usr/local/lib/python3.10/dist-packages (from line-bot-sdk) (2.8.2)\n",
            "Requirement already satisfied: Deprecated in /usr/local/lib/python3.10/dist-packages (from line-bot-sdk) (1.2.14)\n",
            "Requirement already satisfied: attrs>=17.3.0 in /usr/local/lib/python3.10/dist-packages (from aiohttp==3.9.1->line-bot-sdk) (23.1.0)\n",
            "Requirement already satisfied: multidict<7.0,>=4.5 in /usr/local/lib/python3.10/dist-packages (from aiohttp==3.9.1->line-bot-sdk) (6.0.4)\n",
            "Requirement already satisfied: yarl<2.0,>=1.0 in /usr/local/lib/python3.10/dist-packages (from aiohttp==3.9.1->line-bot-sdk) (1.9.4)\n",
            "Requirement already satisfied: frozenlist>=1.1.1 in /usr/local/lib/python3.10/dist-packages (from aiohttp==3.9.1->line-bot-sdk) (1.4.1)\n",
            "Requirement already satisfied: aiosignal>=1.1.2 in /usr/local/lib/python3.10/dist-packages (from aiohttp==3.9.1->line-bot-sdk) (1.3.1)\n",
            "Requirement already satisfied: async-timeout<5.0,>=4.0 in /usr/local/lib/python3.10/dist-packages (from aiohttp==3.9.1->line-bot-sdk) (4.0.3)\n",
            "Requirement already satisfied: charset-normalizer<4,>=2 in /usr/local/lib/python3.10/dist-packages (from requests==2.31.0->line-bot-sdk) (3.3.2)\n",
            "Requirement already satisfied: idna<4,>=2.5 in /usr/local/lib/python3.10/dist-packages (from requests==2.31.0->line-bot-sdk) (3.6)\n",
            "Requirement already satisfied: certifi>=2017.4.17 in /usr/local/lib/python3.10/dist-packages (from requests==2.31.0->line-bot-sdk) (2023.11.17)\n",
            "Requirement already satisfied: annotated-types>=0.4.0 in /usr/local/lib/python3.10/dist-packages (from pydantic<3,>=2.0.3->line-bot-sdk) (0.6.0)\n",
            "Requirement already satisfied: pydantic-core==2.14.6 in /usr/local/lib/python3.10/dist-packages (from pydantic<3,>=2.0.3->line-bot-sdk) (2.14.6)\n",
            "Requirement already satisfied: typing-extensions>=4.6.1 in /usr/local/lib/python3.10/dist-packages (from pydantic<3,>=2.0.3->line-bot-sdk) (4.9.0)\n",
            "Requirement already satisfied: six>=1.5 in /usr/local/lib/python3.10/dist-packages (from python-dateutil>=2.5.3->line-bot-sdk) (1.16.0)\n",
            "Requirement already satisfied: wrapt<2,>=1.10 in /usr/local/lib/python3.10/dist-packages (from Deprecated->line-bot-sdk) (1.14.1)\n"
          ]
        }
      ],
      "source": [
        "!pip install line-bot-sdk"
      ]
    },
    {
      "cell_type": "markdown",
      "metadata": {
        "id": "k1Dr7zuYHmQn"
      },
      "source": [
        "## LINE BOT 程式"
      ]
    },
    {
      "cell_type": "code",
      "execution_count": null,
      "metadata": {
        "colab": {
          "base_uri": "https://localhost:8080/"
        },
        "id": "PQLoKRCf81Vp",
        "outputId": "a85e7e3a-be1f-4097-d36a-1fd483fb380b"
      },
      "outputs": [
        {
          "name": "stdout",
          "output_type": "stream",
          "text": [
            "Requirement already satisfied: openai==0.28 in /usr/local/lib/python3.10/dist-packages (0.28.0)\n",
            "Requirement already satisfied: requests>=2.20 in /usr/local/lib/python3.10/dist-packages (from openai==0.28) (2.31.0)\n",
            "Requirement already satisfied: tqdm in /usr/local/lib/python3.10/dist-packages (from openai==0.28) (4.66.1)\n",
            "Requirement already satisfied: aiohttp in /usr/local/lib/python3.10/dist-packages (from openai==0.28) (3.9.1)\n",
            "Requirement already satisfied: charset-normalizer<4,>=2 in /usr/local/lib/python3.10/dist-packages (from requests>=2.20->openai==0.28) (3.3.2)\n",
            "Requirement already satisfied: idna<4,>=2.5 in /usr/local/lib/python3.10/dist-packages (from requests>=2.20->openai==0.28) (3.6)\n",
            "Requirement already satisfied: urllib3<3,>=1.21.1 in /usr/local/lib/python3.10/dist-packages (from requests>=2.20->openai==0.28) (2.0.7)\n",
            "Requirement already satisfied: certifi>=2017.4.17 in /usr/local/lib/python3.10/dist-packages (from requests>=2.20->openai==0.28) (2023.11.17)\n",
            "Requirement already satisfied: attrs>=17.3.0 in /usr/local/lib/python3.10/dist-packages (from aiohttp->openai==0.28) (23.1.0)\n",
            "Requirement already satisfied: multidict<7.0,>=4.5 in /usr/local/lib/python3.10/dist-packages (from aiohttp->openai==0.28) (6.0.4)\n",
            "Requirement already satisfied: yarl<2.0,>=1.0 in /usr/local/lib/python3.10/dist-packages (from aiohttp->openai==0.28) (1.9.4)\n",
            "Requirement already satisfied: frozenlist>=1.1.1 in /usr/local/lib/python3.10/dist-packages (from aiohttp->openai==0.28) (1.4.1)\n",
            "Requirement already satisfied: aiosignal>=1.1.2 in /usr/local/lib/python3.10/dist-packages (from aiohttp->openai==0.28) (1.3.1)\n",
            "Requirement already satisfied: async-timeout<5.0,>=4.0 in /usr/local/lib/python3.10/dist-packages (from aiohttp->openai==0.28) (4.0.3)\n"
          ]
        }
      ],
      "source": [
        "! pip install openai"
      ]
    },
    {
      "cell_type": "code",
      "execution_count": null,
      "metadata": {
        "colab": {
          "base_uri": "https://localhost:8080/"
        },
        "id": "z0Vk5sYVLt9L",
        "outputId": "4d6a8ec8-5842-4c0b-c92d-5d89d6d35841"
      },
      "outputs": [
        {
          "output_type": "stream",
          "name": "stdout",
          "text": [
            " * Serving Flask app '__main__'\n",
            " * Debug mode: off\n"
          ]
        },
        {
          "output_type": "stream",
          "name": "stderr",
          "text": [
            "INFO:werkzeug:\u001b[31m\u001b[1mWARNING: This is a development server. Do not use it in a production deployment. Use a production WSGI server instead.\u001b[0m\n",
            " * Running on http://127.0.0.1:5000\n",
            "INFO:werkzeug:\u001b[33mPress CTRL+C to quit\u001b[0m\n"
          ]
        },
        {
          "output_type": "stream",
          "name": "stdout",
          "text": [
            " * Running on http://3cfb-34-106-31-173.ngrok-free.app\n",
            " * Traffic stats available on http://127.0.0.1:4040\n"
          ]
        },
        {
          "output_type": "stream",
          "name": "stderr",
          "text": [
            "INFO:werkzeug:127.0.0.1 - - [30/Dec/2023 12:46:52] \"POST / HTTP/1.1\" 200 -\n"
          ]
        },
        {
          "output_type": "stream",
          "name": "stdout",
          "text": [
            "{'destination': 'Uba0e65b06e838e564326ec1de43585fc', 'events': []}\n",
            "Error: No 'events' field found in JSON data\n",
            "{'destination': 'Uba0e65b06e838e564326ec1de43585fc', 'events': [{'type': 'message', 'message': {'type': 'text', 'id': '488400047777251714', 'quoteToken': '1JJXgKzfqwBAYjxlYbOucs0eVv14YlY_qGUNSMRzPsth3aROyRoGX-__LYC2a1ye1YLt7Ojf3eUYm5X5omb6WHY0QysehBf81v_ieSqmE3TuNKDL7UvTlhr3PDUX7gN_LYzUQJNn3B7P5Xl8oiAwiQ', 'text': 'hi'}, 'webhookEventId': '01HJXC6TEHXGMNRJEJ4TEV7KVC', 'deliveryContext': {'isRedelivery': False}, 'timestamp': 1703940417735, 'source': {'type': 'user', 'userId': 'U5d14e63c2c90619b7dc2ae0dee99cf6f'}, 'replyToken': 'd8aae80acf4f4f11a5feb5ee6c67a5e9', 'mode': 'active'}]}\n"
          ]
        },
        {
          "output_type": "stream",
          "name": "stderr",
          "text": [
            "<ipython-input-45-975dc893f308>:32: LineBotSdkDeprecatedIn30: Call to deprecated class LineBotApi. (Use v3 class; linebot.v3.<feature>. See https://github.com/line/line-bot-sdk-python/blob/master/README.rst for more details.) -- Deprecated since version 3.0.0.\n",
            "  line_bot_api = LineBotApi(access_token)\n",
            "<ipython-input-45-975dc893f308>:33: LineBotSdkDeprecatedIn30: Call to deprecated class WebhookHandler. (Use 'from linebot.v3.webhook import WebhookHandler' instead. See https://github.com/line/line-bot-sdk-python/blob/master/README.rst for more details.) -- Deprecated since version 3.0.0.\n",
            "  handler = WebhookHandler(channel_secret)\n",
            "<ipython-input-45-975dc893f308>:60: LineBotSdkDeprecatedIn30: Call to deprecated method reply_message. (Use 'from linebot.v3.messaging import MessagingApi' and 'MessagingApi(...).reply_message(...)' instead. See https://github.com/line/line-bot-sdk-python/blob/master/README.rst for more details.) -- Deprecated since version 3.0.0.\n",
            "  line_bot_api.reply_message(tk, text_message)\n",
            "INFO:werkzeug:127.0.0.1 - - [30/Dec/2023 12:46:59] \"POST / HTTP/1.1\" 200 -\n"
          ]
        },
        {
          "output_type": "stream",
          "name": "stdout",
          "text": [
            "{'destination': 'Uba0e65b06e838e564326ec1de43585fc', 'events': [{'type': 'message', 'message': {'type': 'text', 'id': '488400083244286193', 'quoteToken': 'ZWbKbSn3VV4ChXqeshRYUdG2gYvkPDUVqJ7-slOv8pY6j9P4T3R36HV0VdRrq_Bs2pqbXQPMD-9Ou5zrbh3sWzyts34SNnvJ2ylZrnQexDbHCa0N5--ZtJwT3buYPX58ZhL_ERRLyKb9rjPpVJlf_Q', 'text': '請給抖音打一個智障分數'}, 'webhookEventId': '01HJXC7ETSBQ6KQCRJHTBGV6VR', 'deliveryContext': {'isRedelivery': False}, 'timestamp': 1703940438713, 'source': {'type': 'user', 'userId': 'U5d14e63c2c90619b7dc2ae0dee99cf6f'}, 'replyToken': '01ab610430384ef9a167869336fe632d', 'mode': 'active'}]}\n"
          ]
        },
        {
          "output_type": "stream",
          "name": "stderr",
          "text": [
            "INFO:werkzeug:127.0.0.1 - - [30/Dec/2023 12:47:27] \"POST / HTTP/1.1\" 200 -\n"
          ]
        },
        {
          "output_type": "stream",
          "name": "stdout",
          "text": [
            "{'destination': 'Uba0e65b06e838e564326ec1de43585fc', 'events': [{'type': 'message', 'message': {'type': 'text', 'id': '488400264135704850', 'quoteToken': 'BFLuxVQPf4jC3YnZsu6GTuS1udvrswxeaW0-o-XTMJ8n9PJnizra8TKq_y9ljW2Sob7vo0u6D6DIzw65v4MrrhUazM-fy95k0Qugieekq-euyCmlULWlWmGYuyt_yIat9l9RizvCo9yDshhlxXklSA', 'text': '想像你是一個口出惡言的網路酸民，請給抖音打一個智障分數'}, 'webhookEventId': '01HJXCARGYDHN02W808QR1CSZM', 'deliveryContext': {'isRedelivery': False}, 'timestamp': 1703940546596, 'source': {'type': 'user', 'userId': 'U5d14e63c2c90619b7dc2ae0dee99cf6f'}, 'replyToken': 'd473dc500f054f3aaefdef0691f9dbe6', 'mode': 'active'}]}\n"
          ]
        },
        {
          "output_type": "stream",
          "name": "stderr",
          "text": [
            "INFO:werkzeug:127.0.0.1 - - [30/Dec/2023 12:49:11] \"POST / HTTP/1.1\" 200 -\n"
          ]
        },
        {
          "output_type": "stream",
          "name": "stdout",
          "text": [
            "{'destination': 'Uba0e65b06e838e564326ec1de43585fc', 'events': [{'type': 'message', 'message': {'type': 'text', 'id': '488400602499121313', 'quoteToken': 'fY45yYoQRAOMVQjnQ7nhCnPxVE2ZPfVglT2DdKfJyKApsiM4qnKqL6o82t93xTAZqCryh4t86HT7dzHQgfABhsUCDpLT7oJ1rEAeQs5OdONbhYoRbET1Tx3GMg4SPllWEKzz87PxG7Sf6QZC1KmD1g', 'text': '請列出十大社群網站，並評比智障分數'}, 'webhookEventId': '01HJXCGXBE2G9N2SNVCBXW0JMP', 'deliveryContext': {'isRedelivery': False}, 'timestamp': 1703940748212, 'source': {'type': 'user', 'userId': 'U5d14e63c2c90619b7dc2ae0dee99cf6f'}, 'replyToken': '52a602047e5c4fd6a5e21c9d41686a65', 'mode': 'active'}]}\n"
          ]
        },
        {
          "output_type": "stream",
          "name": "stderr",
          "text": [
            "INFO:werkzeug:127.0.0.1 - - [30/Dec/2023 12:52:56] \"POST / HTTP/1.1\" 200 -\n"
          ]
        },
        {
          "output_type": "stream",
          "name": "stdout",
          "text": [
            "{'destination': 'Uba0e65b06e838e564326ec1de43585fc', 'events': [{'type': 'message', 'message': {'type': 'text', 'id': '488400866958114930', 'quoteToken': 'ssyyZCCy03agnlY-0nttIHemAeiKmcv_sjntcj9O-x9-oiPe2fazFxRLcYv2jq_SB-98liJ-OkNkGEavaGs769ld33i6_6WME89OE3WEuOkXRopbsI1mGO1KHKT8NgzcDosPSqrcFx2NDvdIMPnnWA', 'text': '請列出時下年輕人最常使用的十大社群網站，並評比智障分數'}, 'webhookEventId': '01HJXCNPZ8B8DVBRM1HK61B9JT', 'deliveryContext': {'isRedelivery': False}, 'timestamp': 1703940905932, 'source': {'type': 'user', 'userId': 'U5d14e63c2c90619b7dc2ae0dee99cf6f'}, 'replyToken': '4e5be5472eef4c578c1bad948920b3c7', 'mode': 'active'}]}\n"
          ]
        },
        {
          "output_type": "stream",
          "name": "stderr",
          "text": [
            "INFO:werkzeug:127.0.0.1 - - [30/Dec/2023 12:55:11] \"POST / HTTP/1.1\" 200 -\n"
          ]
        },
        {
          "output_type": "stream",
          "name": "stdout",
          "text": [
            "{'destination': 'Uba0e65b06e838e564326ec1de43585fc', 'events': [{'type': 'message', 'message': {'type': 'text', 'id': '488401081907282290', 'quoteToken': '9PCFQenPsN-sBvmLDZlAeOZYehormEB-0N9ITu-fNf8aQqqNirV4aL4WZ3K0cMBJpEmCrav_-mEb56vb9pgJY4TWaNpMISwgk7ATQzG2G2eZePFEU2Z4t6kqsCXHXAPrf1vM_SkdKCZ50AaHrEZXNA', 'text': '你覺得滑抖音會讓智商降低嗎？'}, 'webhookEventId': '01HJXCSMFE52J59M172EJFT51M', 'deliveryContext': {'isRedelivery': False}, 'timestamp': 1703941033971, 'source': {'type': 'user', 'userId': 'U5d14e63c2c90619b7dc2ae0dee99cf6f'}, 'replyToken': '8674805e1a504ff795d5dfb3ffa4ad94', 'mode': 'active'}]}\n"
          ]
        },
        {
          "output_type": "stream",
          "name": "stderr",
          "text": [
            "INFO:werkzeug:127.0.0.1 - - [30/Dec/2023 12:57:20] \"POST / HTTP/1.1\" 200 -\n"
          ]
        },
        {
          "output_type": "stream",
          "name": "stdout",
          "text": [
            "{'destination': 'Uba0e65b06e838e564326ec1de43585fc', 'events': [{'type': 'message', 'message': {'type': 'text', 'id': '488401130611802525', 'quoteToken': 'dlOg2X5W2apsYHyqCrBxIbrMhW9lm0C8IgVu3c7kZ2k9DWjZK0Ku8ojElETOqOe41kYKHG4xgOQapUhN5pnyuhmzlP9_mgWjUvrf3oWhATY7HGSGPKG42eitEZPkr_ETcxDuv6es8zDVDpu08i1XMw', 'text': '請自我介紹'}, 'webhookEventId': '01HJXCTGWF525T66H95MKTV72J', 'deliveryContext': {'isRedelivery': False}, 'timestamp': 1703941063118, 'source': {'type': 'user', 'userId': 'U5d14e63c2c90619b7dc2ae0dee99cf6f'}, 'replyToken': 'a4d67dde67864a81a16a5fbd5d13e6ad', 'mode': 'active'}]}\n"
          ]
        },
        {
          "output_type": "stream",
          "name": "stderr",
          "text": [
            "INFO:werkzeug:127.0.0.1 - - [30/Dec/2023 12:57:51] \"POST / HTTP/1.1\" 200 -\n"
          ]
        },
        {
          "output_type": "stream",
          "name": "stdout",
          "text": [
            "{'destination': 'Uba0e65b06e838e564326ec1de43585fc', 'events': [{'type': 'message', 'message': {'type': 'text', 'id': '488401150962565479', 'quoteToken': 'papVUrcVqVEZ5wa50Yq7nKHQ--_xuMwb5HIMr9lS3scXXJtgPiRPEYeFnkeqQ6-LIUid9KwTmdMRHd8dCfc95rQVkWXdjrYjuiud3BdyqAGqHxBSDOjEHNNEwrlGTTR-PdUkMHniuhtN1Fc1Rmh5Fg', 'text': '請列出時下年輕人最常使用的十大社群網站，並評比智障分數'}, 'webhookEventId': '01HJXCTWMQDGYQNYHG024M6J3R', 'deliveryContext': {'isRedelivery': False}, 'timestamp': 1703941075298, 'source': {'type': 'user', 'userId': 'U5d14e63c2c90619b7dc2ae0dee99cf6f'}, 'replyToken': '74513978497549d0ab516a7a6d77a4d8', 'mode': 'active'}]}\n"
          ]
        },
        {
          "output_type": "stream",
          "name": "stderr",
          "text": [
            "INFO:werkzeug:127.0.0.1 - - [30/Dec/2023 12:58:19] \"POST / HTTP/1.1\" 200 -\n"
          ]
        },
        {
          "output_type": "stream",
          "name": "stdout",
          "text": [
            "{'destination': 'Uba0e65b06e838e564326ec1de43585fc', 'events': [{'type': 'message', 'message': {'type': 'text', 'id': '488401640287109347', 'quoteToken': '35zhiAkLg0D2XeRRLQmpbHJcQyT12plM5mQqgKHmiTnapwqRFRToXmjEkkG7_phKJZkLqs3zCxsRfZoIzbzbGlF2iSTosINtnSsqCehKEumRgUYz01N4b1iN_dedWfslfGnWL2FAoHFQOip7dX8v7Q', 'text': '請從1開始往下數'}, 'webhookEventId': '01HJXD3S4QY5MKZ7E792VYJYA1', 'deliveryContext': {'isRedelivery': False}, 'timestamp': 1703941366799, 'source': {'type': 'user', 'userId': 'U5d14e63c2c90619b7dc2ae0dee99cf6f'}, 'replyToken': '3a9cdeecaae94cccb94ebe2b21909fde', 'mode': 'active'}]}\n"
          ]
        },
        {
          "output_type": "stream",
          "name": "stderr",
          "text": [
            "INFO:werkzeug:127.0.0.1 - - [30/Dec/2023 13:02:55] \"POST / HTTP/1.1\" 200 -\n"
          ]
        }
      ],
      "source": [
        "from flask_ngrok import run_with_ngrok\n",
        "from flask import Flask, request\n",
        "from linebot import LineBotApi, WebhookHandler\n",
        "from linebot.models import TextSendMessage\n",
        "import json\n",
        "from openai import OpenAI\n",
        "\n",
        "access_token = \"access_token\"\n",
        "channel_secret = \"channel_secret\"\n",
        "api_key = \"api_key\"\n",
        "\n",
        "app = Flask(__name__)\n",
        "\n",
        "@app.route(\"/\", methods=['POST'])\n",
        "def linebot():\n",
        "    try:\n",
        "        body = request.get_data(as_text=True)\n",
        "        json_data = json.loads(body)\n",
        "        print(json_data)\n",
        "\n",
        "        # Check if the required fields exist in the JSON data\n",
        "        events = json_data.get('events', [])\n",
        "        if not events:\n",
        "            raise ValueError(\"No 'events' field found in JSON data\")\n",
        "\n",
        "        tk = events[0].get('replyToken', '')\n",
        "        msg = events[0].get('message', {}).get('text', '')\n",
        "\n",
        "        if not tk or not msg:\n",
        "            raise ValueError(\"Missing 'replyToken' or 'message.text' in JSON data\")\n",
        "\n",
        "        line_bot_api = LineBotApi(access_token)\n",
        "        handler = WebhookHandler(channel_secret)\n",
        "        signature = request.headers['X-Line-Signature']\n",
        "        handler.handle(body, signature)\n",
        "\n",
        "\n",
        "        openai.api_key = api_key\n",
        "\n",
        "        completion = openai.chat.completions.create(\n",
        "          model=\"gpt-3.5-turbo\",\n",
        "          messages=[\n",
        "            {\n",
        "            \"role\": \"user\",\n",
        "            \"content\": msg[0:],\n",
        "            },\n",
        "          ],\n",
        "        )\n",
        "        response = completion.choices[0].message.content\n",
        "\n",
        "        text_message = TextSendMessage(text=response)\n",
        "        line_bot_api.reply_message(tk, text_message)\n",
        "\n",
        "    except Exception as e:\n",
        "        print(f'Error: {e}')\n",
        "\n",
        "    return 'OK'\n",
        "\n",
        "if __name__ == \"__main__\":\n",
        "    run_with_ngrok(app)\n",
        "    app.run()\n"
      ]
    },
    {
      "cell_type": "markdown",
      "metadata": {
        "id": "uhlrbJZSRrSW"
      },
      "source": [
        "## 放到Google Cloud Functions用的"
      ]
    },
    {
      "cell_type": "code",
      "execution_count": null,
      "metadata": {
        "colab": {
          "base_uri": "https://localhost:8080/"
        },
        "id": "2tuM4u1HJfJy",
        "outputId": "e5365d4a-3472-4a93-cade-b623c0b29c5e"
      },
      "outputs": [
        {
          "name": "stderr",
          "output_type": "stream",
          "text": [
            "<ipython-input-40-8d70c6ebdd6c>:8: LineBotSdkDeprecatedIn30: Call to deprecated class LineBotApi. (Use v3 class; linebot.v3.<feature>. See https://github.com/line/line-bot-sdk-python/blob/master/README.rst for more details.) -- Deprecated since version 3.0.0.\n",
            "  line_bot_api = LineBotApi(access_token)\n"
          ]
        }
      ],
      "source": [
        "from linebot import LineBotApi, WebhookHandler\n",
        "from linebot.models import TextSendMessage\n",
        "import json\n",
        "import openai\n",
        "\n",
        "access_token = \"access_token\"\n",
        "channel_secret = \"channel_secret\"\n",
        "line_bot_api = LineBotApi(access_token)\n",
        "\n",
        "\n",
        "def linebot(request):\n",
        "    body = request.get_data(as_text=True)\n",
        "    json_data = json.loads(body)\n",
        "    try:\n",
        "        handler = WebhookHandler(channel_secret)\n",
        "        signature = request.headers['X-Line-Signature']\n",
        "        handler.handle(body, signature)\n",
        "        tk = json_data['events'][0]['replyToken']\n",
        "        msg = json_data['events'][0]['message']['text']\n",
        "\n",
        "        openai.api_key = \"api_key\"\n",
        "\n",
        "        completion = openai.chat.completions.create(\n",
        "          model=\"gpt-3.5-turbo\",\n",
        "          messages=[\n",
        "            {\n",
        "            \"role\": \"user\",\n",
        "            \"content\": msg[0:],\n",
        "            },\n",
        "          ],\n",
        "        )\n",
        "        response = completion.choices[0].message.content\n",
        "\n",
        "        text_message = TextSendMessage(text=response)\n",
        "        line_bot_api.reply_message(tk, text_message)\n",
        "    except:\n",
        "        print('error')\n",
        "    return 'OK'\n"
      ]
    }
  ],
  "metadata": {
    "colab": {
      "provenance": []
    },
    "gpuClass": "standard",
    "kernelspec": {
      "display_name": "Python 3",
      "name": "python3"
    },
    "language_info": {
      "name": "python"
    }
  },
  "nbformat": 4,
  "nbformat_minor": 0
}